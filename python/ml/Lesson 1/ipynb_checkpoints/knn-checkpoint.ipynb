{
 "cells": [
  {
   "cell_type": "markdown",
   "metadata": {},
   "source": [
    "Чтобы работало корректно, каждый раз необходимо запускать с начала (отсюда)"
   ]
  },
  {
   "cell_type": "code",
   "execution_count": 1,
   "metadata": {},
   "outputs": [],
   "source": [
    "import numpy as np\n",
    "import matplotlib.pyplot as plt\n",
    "from sklearn.datasets import load_digits\n",
    "from sklearn.ensemble import RandomForestClassifier\n",
    "\n",
    "%matplotlib inline"
   ]
  },
  {
   "cell_type": "code",
   "execution_count": 2,
   "metadata": {},
   "outputs": [],
   "source": [
    "points = []\n",
    "\n",
    "# Параметры кластеров\n",
    "num_clusters = 3\n",
    "cluster_size = 20\n",
    "num_points = num_clusters * cluster_size\n",
    "\n",
    "# Центры кластеров (можно занулить)\n",
    "# means_x = [10]\n",
    "# means_y = [5]\n",
    "\n",
    "# Разброс\n",
    "std = 3\n",
    "\n",
    "for i in range(num_points):\n",
    "    x_i = np.random.normal(scale=std)\n",
    "    y_i = np.random.normal(scale=std)\n",
    "    points.append((x_i, y_i))"
   ]
  },
  {
   "cell_type": "code",
   "execution_count": 4,
   "metadata": {},
   "outputs": [
    {
     "data": {
      "text/plain": [
       "<matplotlib.collections.PathCollection at 0x1fa5243b488>"
      ]
     },
     "execution_count": 4,
     "metadata": {},
     "output_type": "execute_result"
    },
    {
     "data": {
      "image/png": "[encoded data removed]",
      "text/plain": [
       "<Figure size 432x288 with 1 Axes>"
      ]
     },
     "metadata": {
      "needs_background": "light"
     },
     "output_type": "display_data"
    }
   ],
   "source": [
    "points_x = list(map(lambda x: x[0], points))\n",
    "points_y = list(map(lambda x: x[1], points))\n",
    "colors = ['r'] * cluster_size + ['g'] * cluster_size + ['b'] * cluster_size\n",
    "plt.scatter(x=points_x, y=points_y, c=colors)"
   ]
  },
  {
   "cell_type": "code",
   "execution_count": 5,
   "metadata": {},
   "outputs": [],
   "source": [
    "# Код алгоритма\n",
    "def k_nn(points, num_neighbors, control_point):\n",
    "    \"\"\"\n",
    "    @param points: список из пар координат точек\n",
    "    @param num_neighbors: число соседей, по которым будем определять класс контрольной точки\n",
    "\n",
    "    * @param num_clusters: неоходимый параметр, но в этом ноутбуке он объясвлен глобально\n",
    "    * @condition: точки должны подаваться в отсортированном по кластерам виде: первые num_points / num_clusters - к первому и так далее\n",
    "    \n",
    "    @return: номер кластера, к которому её отнесли\n",
    "    \"\"\"\n",
    "    num_points = len(points)\n",
    "    \n",
    "    points.append(control_point)\n",
    "    colors.append('violet')\n",
    "    \n",
    "    # Выведем на экран стартовую ситуацию\n",
    "    print(\"Входные данные\")\n",
    "    points_x = list(map(lambda x: x[0], points))\n",
    "    points_y = list(map(lambda x: x[1], points))\n",
    "    plt.scatter(x=points_x, y=points_y, c=colors)\n",
    "    plt.show()\n",
    "    \n",
    "    points.pop()\n",
    "    colors.pop()\n",
    "\n",
    "    \n",
    "    control_point_x = control_point[0]\n",
    "    control_point_y = control_point[1]\n",
    "    \n",
    "    # Находим расстояния от каждой из точек на плоскости до контрольной\n",
    "    dist = []\n",
    "    for i in range(num_points):\n",
    "        r = (points_x[i] - control_point_x)*(points_x[i] - control_point_x) + (points_y[i] - control_point_y)*(points_y[i] - control_point_y)\n",
    "        dist.append(r) \n",
    "    dist_sort = sorted(dist)\n",
    "    \n",
    "    # получаем индексы k ближайших точек\n",
    "    index = []\n",
    "    for i in range(num_neighbors):\n",
    "        index.append(dist.index(dist_sort[i]) // cluster_size)\n",
    "    index = np.array(index)\n",
    "    \n",
    "    neighbor_class = []\n",
    "    for k in range(num_clusters):\n",
    "        neighbor_class.append((index==k).sum())\n",
    "    \n",
    "    result = neighbor_class.index(max(neighbor_class))\n",
    "\n",
    "    return result    "
   ]
  },
  {
   "cell_type": "code",
   "execution_count": 6,
   "metadata": {},
   "outputs": [
    {
     "name": "stdout",
     "output_type": "stream",
     "text": [
      "Входные данные\n"
     ]
    },
    {
     "data": {
      "image/png": "[encoded data removed]",
      "text/plain": [
       "<Figure size 432x288 with 1 Axes>"
      ]
     },
     "metadata": {
      "needs_background": "light"
     },
     "output_type": "display_data"
    },
    {
     "data": {
      "text/plain": [
       "0"
      ]
     },
     "execution_count": 6,
     "metadata": {},
     "output_type": "execute_result"
    }
   ],
   "source": [
    "num_neighbors = 10\n",
    "control_point = (0, 0)\n",
    "k_nn(points, num_neighbors, control_point)"
   ]
  },
  {
   "cell_type": "code",
   "execution_count": null,
   "metadata": {},
   "outputs": [],
   "source": []
  },
  {
   "cell_type": "markdown",
   "metadata": {},
   "source": [
    "0 - red,\n",
    "1 - green,\n",
    "2 - blue."
   ]
  },
  {
   "cell_type": "code",
   "execution_count": null,
   "metadata": {},
   "outputs": [],
   "source": []
  },
  {
   "cell_type": "code",
   "execution_count": null,
   "metadata": {},
   "outputs": [],
   "source": []
  },
  {
   "cell_type": "code",
   "execution_count": null,
   "metadata": {},
   "outputs": [],
   "source": []
  },
  {
   "cell_type": "code",
   "execution_count": null,
   "metadata": {},
   "outputs": [],
   "source": []
  },
  {
   "cell_type": "code",
   "execution_count": null,
   "metadata": {},
   "outputs": [],
   "source": []
  },
  {
   "cell_type": "code",
   "execution_count": null,
   "metadata": {},
   "outputs": [],
   "source": []
  }
 ],
 "metadata": {
  "kernelspec": {
   "display_name": "Python 3",
   "language": "python",
   "name": "python3"
  },
  "language_info": {
   "codemirror_mode": {
    "name": "ipython",
    "version": 3
   },
   "file_extension": ".py",
   "mimetype": "text/x-python",
   "name": "python",
   "nbconvert_exporter": "python",
   "pygments_lexer": "ipython3",
   "version": "3.7.4"
  }
 },
 "nbformat": 4,
 "nbformat_minor": 2
}
