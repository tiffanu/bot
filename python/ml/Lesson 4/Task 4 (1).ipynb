{
 "cells": [
  {
   "cell_type": "markdown",
   "metadata": {},
   "source": [
    "# Домашнее задание\n",
    "\n",
    "Всего у вас 2 домашних задания:\n",
    "\n",
    "### 1) Бинарная классификация на примере детекции фрода на кредитных картах (6 баллов)\n",
    "(в этом файле)\n",
    "\n",
    "### 2) Небинарная классификация на вашем датасете (6 баллов)\n",
    "(тоже в этом файле)\n",
    "\n",
    "# 1 - Бинарная классификация на примере детекции фрода на кредитных картах (суммарно 6 баллов)\n",
    "У вас есть информация о множесте транзакций. Вам нужно научиться предсказывать, какие из них мошеннические, а какие нет."
   ]
  },
  {
   "cell_type": "markdown",
   "metadata": {},
   "source": [
    "### (1 балл) Считайте данные\n",
    "Сами считайте и предобработайте, если надо, данные из файла creditcard.csv"
   ]
  },
  {
   "cell_type": "code",
   "execution_count": null,
   "metadata": {},
   "outputs": [],
   "source": []
  },
  {
   "cell_type": "code",
   "execution_count": null,
   "metadata": {},
   "outputs": [],
   "source": []
  },
  {
   "cell_type": "markdown",
   "metadata": {},
   "source": [
    "### (2 балла) Обучите несколько моделей, посмотрите на метрики.\n",
    "Как модели точно возьмите LogisticRegression, KNN и константу, можете придумать еще какие-нибудь.\n",
    "\n",
    "Как метрики точно возьмите accuracy, precision, recall, f1, roc_auc. Постройте ROC-кривую."
   ]
  },
  {
   "cell_type": "code",
   "execution_count": null,
   "metadata": {},
   "outputs": [],
   "source": []
  },
  {
   "cell_type": "code",
   "execution_count": null,
   "metadata": {},
   "outputs": [],
   "source": []
  },
  {
   "cell_type": "markdown",
   "metadata": {},
   "source": [
    "### (1 балл) Выберите одну метрику, которую вы будете максимизировать\n",
    "\n",
    "Представьте, что вы решаете задачу автоматического поиска мошеннических транзакций, чтобы ваш робот автоматически банил пользователей, который их осуществляют.\n",
    "\n",
    "Обоснуйте свой выбор."
   ]
  },
  {
   "cell_type": "code",
   "execution_count": null,
   "metadata": {},
   "outputs": [],
   "source": []
  },
  {
   "cell_type": "markdown",
   "metadata": {},
   "source": [
    "### (2 балла) Переберите гиперпараметры разных моделей, попытайтесь добиться лучшего результата по этой метрике\n",
    "\n",
    "Постройте график для каждого перебора, сделайте красивый отчет (не надо просто говорить \"я решил выбрать 2, 0.7 и 6, так не пойдет\".\n",
    "\n",
    "Можно преобразовывать датасет, преобразовывать, добавлять, удалять фичи, всё что угодно.\n",
    "\n",
    "Отсутствие результата тоже результат (вдруг вы перебрали кучу вещей, а лучший все еще самый первый запуск, главное что перебрали)."
   ]
  },
  {
   "cell_type": "code",
   "execution_count": null,
   "metadata": {},
   "outputs": [],
   "source": []
  },
  {
   "cell_type": "code",
   "execution_count": null,
   "metadata": {},
   "outputs": [],
   "source": []
  },
  {
   "cell_type": "code",
   "execution_count": null,
   "metadata": {},
   "outputs": [],
   "source": []
  },
  {
   "cell_type": "markdown",
   "metadata": {},
   "source": [
    "# 2 - Небинарная классификация на вашем датасете (суммарно 6 баллов)"
   ]
  },
  {
   "cell_type": "markdown",
   "metadata": {},
   "source": [
    "### (2 балла) Выберите какой-нибудь интересный вам датасет, скачайте его и считайте данные\n",
    "\n",
    "Творческое задание - найти в интернете (или собрать свой даже) датасет, сохранить его в файл, и загрузить сюда.\n",
    "\n",
    "Требования:\n",
    "\n",
    "- он должен быть немаленький (хотя бы 500 объектов, лучше больше)\n",
    "- он должен быть интересный\n",
    "- таргет должен быть небинарным классом\n",
    "\n",
    "Минус балл, если ваш датасет с кем-нибудь повторится."
   ]
  },
  {
   "cell_type": "code",
   "execution_count": null,
   "metadata": {},
   "outputs": [],
   "source": []
  },
  {
   "cell_type": "code",
   "execution_count": null,
   "metadata": {},
   "outputs": [],
   "source": []
  },
  {
   "cell_type": "markdown",
   "metadata": {},
   "source": [
    "### (2 балла) Обучите несколько моделей, посмотрите на метрики.\n",
    "Как модели точно возьмите LogisticRegression, KNN и константу, можете придумать еще какие-нибудь.\n",
    "\n",
    "Как метрики точно возьмите accuracy, разные усреднения precision, recall и f1."
   ]
  },
  {
   "cell_type": "code",
   "execution_count": null,
   "metadata": {},
   "outputs": [],
   "source": []
  },
  {
   "cell_type": "code",
   "execution_count": null,
   "metadata": {},
   "outputs": [],
   "source": []
  },
  {
   "cell_type": "markdown",
   "metadata": {},
   "source": [
    "### (2 балла) Выберите метрику, которую вы хотите максимизировать. Переберите гиперпараметры, постарайтесь найти модель, которая максимизирует эту метрику.\n",
    "\n",
    "Обоснуйте свой выбор. Напишите красивый отчет с графиками. Добились ли вы результатов, которых хотели добиться для этого датасета?"
   ]
  },
  {
   "cell_type": "code",
   "execution_count": null,
   "metadata": {},
   "outputs": [],
   "source": []
  },
  {
   "cell_type": "code",
   "execution_count": null,
   "metadata": {},
   "outputs": [],
   "source": []
  }
 ],
 "metadata": {
  "kernelspec": {
   "display_name": "Python 3",
   "language": "python",
   "name": "python3"
  },
  "language_info": {
   "codemirror_mode": {
    "name": "ipython",
    "version": 3
   },
   "file_extension": ".py",
   "mimetype": "text/x-python",
   "name": "python",
   "nbconvert_exporter": "python",
   "pygments_lexer": "ipython3",
   "version": "3.7.3"
  }
 },
 "nbformat": 4,
 "nbformat_minor": 2
}
